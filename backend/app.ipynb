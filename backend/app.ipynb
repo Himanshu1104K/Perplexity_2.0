{
 "cells": [
  {
   "cell_type": "code",
   "execution_count": 16,
   "metadata": {},
   "outputs": [],
   "source": [
    "from typing import Annotated, TypedDict, Optional\n",
    "from langgraph.graph import StateGraph, START, END, add_messages\n",
    "from langchain_google_genai import ChatGoogleGenerativeAI\n",
    "from dotenv import load_dotenv\n",
    "from langchain_community.tools.tavily_search import TavilySearchResults\n",
    "from langgraph.checkpoint.memory import MemorySaver\n",
    "from uuid import uuid4\n",
    "from langchain_core.messages import ToolMessage, HumanMessage\n",
    "import json\n",
    "\n",
    "load_dotenv()\n",
    "\n",
    "llm = ChatGoogleGenerativeAI(model=\"gemini-2.0-flash\")"
   ]
  },
  {
   "cell_type": "code",
   "execution_count": 17,
   "metadata": {},
   "outputs": [],
   "source": [
    "search_tool = TavilySearchResults(max_results=4)\n",
    "tools = [search_tool]\n",
    "\n",
    "memory = MemorySaver()\n",
    "\n",
    "llm_with_tools = llm.bind_tools(tools)"
   ]
  },
  {
   "cell_type": "code",
   "execution_count": 18,
   "metadata": {},
   "outputs": [],
   "source": [
    "class State(TypedDict):\n",
    "    messages: Annotated[list, add_messages]\n",
    "\n",
    "\n",
    "async def model(state: State):\n",
    "    result = await llm_with_tools.ainvoke(state[\"messages\"])\n",
    "    return {\n",
    "        \"messages\": [result],\n",
    "    }\n",
    "\n",
    "\n",
    "async def tools_router(state: State):\n",
    "    last_message = state[\"messages\"][-1]\n",
    "\n",
    "    if hasattr(last_message, \"tool_calls\") and len(last_message.tool_calls) > 0:\n",
    "        return \"tool_node\"\n",
    "    else:\n",
    "        return \"end\"\n",
    "\n",
    "\n",
    "async def tool_node(state: State):\n",
    "    \"\"\"Custom tool node that handles tool calls from the LLM\"\"\"\n",
    "    tool_calls = state[\"messages\"][-1].tool_calls\n",
    "\n",
    "    tool_messages = []\n",
    "    for tool_call in tool_calls:\n",
    "        tool_name = tool_call[\"name\"]\n",
    "        tool_args = tool_call[\"args\"]\n",
    "        tool_id = tool_call[\"id\"]\n",
    "\n",
    "        if tool_name == \"tavily_search_results_json\":\n",
    "            search_results = await search_tool.ainvoke(tool_args)\n",
    "\n",
    "            tool_message = ToolMessage(\n",
    "                content=str(search_results),\n",
    "                tool_call_id=tool_id,\n",
    "                name=tool_name,\n",
    "            )\n",
    "\n",
    "            tool_messages.append(tool_message)\n",
    "\n",
    "    return {\"messages\": tool_messages}\n",
    "\n",
    "\n",
    "graph = StateGraph(State)\n",
    "\n",
    "graph.add_node(\"model\", model)\n",
    "graph.add_node(\"tool_node\", tool_node)\n",
    "graph.set_entry_point(\"model\")\n",
    "\n",
    "graph.add_conditional_edges(\n",
    "    \"model\", tools_router, {\"tool_node\": \"tool_node\", \"end\": END}\n",
    ")\n",
    "graph.add_edge(\"tool_node\", \"model\")\n",
    "\n",
    "app = graph.compile(checkpointer=memory)"
   ]
  },
  {
   "cell_type": "code",
   "execution_count": 19,
   "metadata": {},
   "outputs": [
    {
     "data": {
      "image/png": "[encoded data removed]",
      "text/plain": [
       "<IPython.core.display.Image object>"
      ]
     },
     "metadata": {},
     "output_type": "display_data"
    }
   ],
   "source": [
    "from IPython.display import Image, display\n",
    "from langchain_core.runnables.graph import MermaidDrawMethod\n",
    "\n",
    "display(Image(app.get_graph().draw_mermaid_png(draw_method=MermaidDrawMethod.API)))"
   ]
  },
  {
   "cell_type": "code",
   "execution_count": 20,
   "metadata": {},
   "outputs": [
    {
     "data": {
      "text/plain": [
       "{'messages': [HumanMessage(content='when is the last spacex launch from today', additional_kwargs={}, response_metadata={}, id='1a369e7e-8fb4-4cb5-b8f7-0a3ab3bcda4b'),\n",
       "  AIMessage(content='', additional_kwargs={'function_call': {'name': 'tavily_search_results_json', 'arguments': '{\"query\": \"last spacex launch date\"}'}}, response_metadata={'prompt_feedback': {'block_reason': 0, 'safety_ratings': []}, 'finish_reason': 'STOP', 'model_name': 'gemini-2.0-flash', 'safety_ratings': []}, id='run-1f6b5ec6-2ce2-4639-ae39-54bfb163f953-0', tool_calls=[{'name': 'tavily_search_results_json', 'args': {'query': 'last spacex launch date'}, 'id': '2bf266e2-4b8b-4e16-82e6-60fd350d01ec', 'type': 'tool_call'}], usage_metadata={'input_tokens': 56, 'output_tokens': 14, 'total_tokens': 70, 'input_token_details': {'cache_read': 0}}),\n",
       "  ToolMessage(content='[{\\'title\\': \\'List of Falcon 9 and Falcon Heavy launches - Wikipedia\\', \\'url\\': \\'https://en.wikipedia.org/wiki/List_of_Falcon_9_and_Falcon_Heavy_launches\\', \\'content\\': \\'2025, future[edit]\\\\nDate and time (UTC) Version,\\\\nbooster[f]  Launch site Payload[g]  Orbit   Customer\\\\n8 February 2025\\\\n19:18   F9\\\\xa0B5\\\\nB1078.17    Cape Canaveral, SLC‑40  Starlink: Group\\\\xa012-9 (21\\\\xa0satellites)    LEO SpaceX\\\\nLaunch of 21 Starlink v2\\\\xa0mini satellites, including 13 with direct-to-cell connectivity, to a 559\\\\xa0km (347\\\\xa0mi) orbit at an inclination of 43° to expand internet constellation.\\\\n10 February 2025\\\\n00:03   F9\\\\xa0B5   Vandenberg, SLC‑4E  Starlink: Group\\\\xa011-10 (~22\\\\xa0satellites)  LEO SpaceX [...] After pausing launches for months, SpaceX launched on 22 December 2015, the highly anticipated return-to-flight mission after the loss of CRS-7. This launch inaugurated a new Falcon 9 Full Thrust version of its flagship rocket featuring increased performance, notably thanks to subcooling of the propellants. After launching a constellation of 11 Orbcomm-OG2 second-generation satellites,[598] the first stage performed a controlled-descent and landing test for the eighth time, SpaceX attempted to [...] ^ \"SpaceX launches Falcon 9 rocket from Cape Canaveral with 23 Starlink satellites\". Spaceflight Now. 7 January 2024. Archived from the original on 7 January 2024. Retrieved 8 January 2024.\\', \\'score\\': 0.7845341}, {\\'title\\': \\'SpaceX Launch Schedule - RocketLaunch.Live\\', \\'url\\': \\'https://www.rocketlaunch.live/?filter=spacex\\', \\'content\\': \\'NOV 07 2024\\\\nStarlink-202 (6-77)\\\\n\\\\n\\\\nNOV 05 2024\\\\n\"Changes In Latitudes, Changes In Attitudes\"\\\\n\\\\n\\\\nNOV 05 2024\\\\nCRS2 SpX-31 (Dragon)\\\\n\\\\n\\\\nNOV 04 2024\\\\nIonosfera-M n°1, 2 & Others\\\\n\\\\n\\\\nNOV 04 2024\\\\nKirameki 3\\\\n\\\\n\\\\nOCT 31 2024\\\\nBars-M No. 6L\\\\n\\\\n\\\\nOCT 30 2024\\\\nStarlink-201 (10-13)\\\\n\\\\n\\\\nOCT 30 2024\\\\nStarlink-200 (9-9)\\\\n\\\\n\\\\nOCT 29 2024\\\\nShenzhou 19\\\\n\\\\n\\\\nOCT 26 2024\\\\nStarlink-199 (10-8)\\\\n\\\\n\\\\nOCT 24 2024\\\\nNROL-167\\\\n\\\\n\\\\nOCT 23 2024\\\\nStarlink-198 (6-61)\\\\n\\\\n\\\\nOCT 23 2024\\\\nNS-27\\\\n\\\\n\\\\nOCT 23 2024\\\\nYaogan 43-03-01\\\\n\\\\n\\\\nOCT 22 2024\\\\nTianping-3A(01) [...] B1088\\\\nSeries: SpaceX Starlink\\\\nAPR 02\\\\nRecent Launches\\\\n\\\\n\\\\nAPR 01\\\\nWHJSW-6 (01-04)\\\\n\\\\n\\\\nAPR 01\\\\nFram2\\\\n\\\\n\\\\nMAR 31\\\\nStarlink (6-80)\\\\n\\\\n\\\\nMAR 30\\\\n\"Going Full Spectrum\" (Demo Flight)\\\\n\\\\n\\\\nMAR 29\\\\nTJSW-16\\\\n\\\\n\\\\nMAR 26\\\\nStarlink (11-7)\\\\n\\\\n\\\\nMAR 26\\\\nTianlian-2 04\\\\n\\\\n\\\\nMAR 26\\\\n\"Finding Hot Wildfires Near You\"\\\\n\\\\n\\\\nMAR 24\\\\nNROL-69\\\\n\\\\n\\\\nMAR 21\\\\n\"Vernal Ascent\"\\\\n\\\\n\\\\nMAR 21\\\\nNROL-57\\\\n\\\\n\\\\nMAR 18\\\\nStarlink-241 (12-25)\\\\n\\\\n\\\\nMAR 18\\\\n\"High Five\"\\\\n\\\\n\\\\nMAR 17\\\\n\"Auld Lang Syne\"\\\\n\\\\n\\\\nMAR 16\\\\nKosmos 2585-2587\\\\n\\\\n\\\\nMAR 15\\\\nStarlink-240 (12-16) [...] NOV 22 2024\\\\nNS-28\\\\n\\\\n\\\\nNOV 21 2024\\\\nStarlink-208 (6-66)\\\\n\\\\n\\\\nNOV 21 2024\\\\nProgress MS-29\\\\n\\\\n\\\\nNOV 19 2024\\\\nStarship Flight 6\\\\n\\\\n\\\\nNOV 18 2024\\\\nGSAT-20 (GSAT-N2)\\\\n\\\\n\\\\nNOV 18 2024\\\\nStarlink-207 (9-12)\\\\n\\\\n\\\\nNOV 17 2024\\\\nOptus-X (TD7)\\\\n\\\\n\\\\nNOV 15 2024\\\\nTianzhou-8\\\\n\\\\n\\\\nNOV 14 2024\\\\nStarlink-206 (6-68)\\\\n\\\\n\\\\nNOV 14 2024\\\\nStarlink-205 (9-11)\\\\n\\\\n\\\\nNOV 13 2024\\\\nHaiyang-4 (01)\\\\n\\\\n\\\\nNOV 11 2024\\\\nStarlink-204 (6-69)\\\\n\\\\n\\\\nNOV 11 2024\\\\nKoreasat-6A\\\\n\\\\n\\\\nNOV 11 2024\\\\nShiyan-26, Jilin-1, and Others\\\\n\\\\n\\\\nNOV 09 2024\\\\nStarlink-203 (9-10)\\\\n\\\\n\\\\nNOV 09 2024\\\\nZhongyuan-2\\', \\'score\\': 0.78334314}, {\\'title\\': \\'Launch Schedule - Spaceflight Now\\', \\'url\\': \\'https://spaceflightnow.com/launch-schedule/\\', \\'content\\': \\'SpaceX’s rideshare Bandwagon-3 mission marks the 300th orbital flight from Cape Canaveral’s pad 40\\\\nApril 21, 2025\\\\n\\\\n\\\\n\\\\nSpaceX launches 32nd resupply mission for NASA to the International Space Station\\\\nApril 20, 2025\\\\n\\\\n\\\\n\\\\nSpaceX launches third NRO mission in eight days\\\\nApril 19, 2025\\\\n\\\\n\\\\n\\\\nNorthrop Grumman launches first Minotaur 4 rocket from Vandenberg in 14 years\\\\nApril 16, 2025\\\\n\\\\n\\\\n\\\\nSpaceX launches Falcon 9 rocket booster on record-setting 27th time on midnight Starlink flight\\\\nApril 13, 2025\\\\n\\\\n\\\\nMENU\\', \\'score\\': 0.74563974}, {\\'title\\': \\'Starlink Mission - SpaceX - Launches\\', \\'url\\': \\'https://www.spacex.com/launches/\\', \\'content\\': \"August 16, 2024\\\\nTransporter-11 Mission\\\\nLearn More\\\\n\\\\nAugust 15, 2024\\\\nMAXAR 2 MISSION\\\\nLearn More\\\\n\\\\nAugust 12, 2024\\\\nStarlink Mission\\\\nLearn More\\\\n\\\\nAugust 11, 2024\\\\nASBM Mission\\\\nLearn More\\\\n\\\\nAugust 10, 2024\\\\nStarlink Mission\\\\nLearn More\\\\n\\\\nAugust 4, 2024\\\\nNG-21 MISSION\\\\nLearn More\\\\n\\\\nAugust 4, 2024\\\\nSTARLINK MISSION\\\\nLearn More\\\\n\\\\nAugust 2, 2024\\\\nSTARLINK MISSION\\\\nLearn More\\\\n\\\\nJuly 28, 2024\\\\nSTARLINK MISSION\\\\nLearn More\\\\n\\\\nJuly 28, 2024\\\\nSTARLINK MISSION\\\\nLearn More\\\\n\\\\nJuly 27, 2024\\\\nSTARLINK MISSION\\\\nLearn More [...] March 14, 2025\\\\nTransporter-13 Mission\\\\nLearn More\\\\n\\\\nMarch 14, 2025\\\\nCREW-10 MISSION\\\\nLearn More\\\\n\\\\nMarch 12, 2025\\\\nStarlink Mission\\\\nLearn More\\\\n\\\\nMarch 11, 2025\\\\nSPHEREx Mission\\\\nLearn More\\\\n\\\\nMarch 6, 2025\\\\nStarship\\'s Eighth Flight Test\\\\nLearn More\\\\n\\\\nMarch 2, 2025\\\\nStarlink Mission\\\\nLearn More\\\\n\\\\nFebruary 26, 2025\\\\nStarlink Mission\\\\nLearn More\\\\n\\\\nFebruary 26, 2025\\\\nIM-2 MISSION\\\\nLearn More\\\\n\\\\nFebruary 22, 2025\\\\nStarlink Mission\\\\nLearn More\\\\n\\\\nFebruary 21, 2025\\\\nStarlink Mission\\\\nLearn More [...] December 17, 2024\\\\nNROL-149 Mission\\\\nLearn More\\\\n\\\\nDecember 16, 2024\\\\nRRT-1 Mission\\\\nLearn More\\\\n\\\\nDecember 13, 2024\\\\nStarlink Mission\\\\nLearn More\\\\n\\\\nDecember 8, 2024\\\\nStarlink Mission\\\\nLearn More\\\\n\\\\nDecember 5, 2024\\\\nSXM-9 Mission\\\\nLearn More\\\\n\\\\nDecember 4, 2024\\\\nStarlink Mission\\\\nLearn More\\\\n\\\\nDecember 4, 2024\\\\nStarlink Mission\\\\nLearn More\\\\n\\\\nNovember 30, 2024\\\\nNROL-126 Mission\\\\nLearn More\\\\n\\\\nNovember 30, 2024\\\\nStarlink Mission\\\\nLearn More\\\\n\\\\nNovember 26, 2024\\\\nStarlink Mission\\\\nLearn More\", \\'score\\': 0.7407191}]', name='tavily_search_results_json', id='b0e8b1fd-7ce3-4311-8d86-7648581590ee', tool_call_id='2bf266e2-4b8b-4e16-82e6-60fd350d01ec'),\n",
       "  AIMessage(content='Based on the search results, the most recent SpaceX launch appears to be on November 7, 2024 for the Starlink-202 (6-77) mission.', additional_kwargs={}, response_metadata={'prompt_feedback': {'block_reason': 0, 'safety_ratings': []}, 'finish_reason': 'STOP', 'model_name': 'gemini-2.0-flash', 'safety_ratings': []}, id='run-172ebe89-3936-4270-8cd9-6a5ab56db9a2-0', usage_metadata={'input_tokens': 2712, 'output_tokens': 40, 'total_tokens': 2752, 'input_token_details': {'cache_read': 0}})]}"
      ]
     },
     "execution_count": 20,
     "metadata": {},
     "output_type": "execute_result"
    }
   ],
   "source": [
    "config = {\n",
    "    \"configurable\": {\n",
    "        \"thread_id\": 5,\n",
    "    }\n",
    "}\n",
    "\n",
    "response = await app.ainvoke(\n",
    "    {\"messages\": [HumanMessage(content=\"when is the last spacex launch from today\")]},\n",
    "    config=config,\n",
    ")\n",
    "\n",
    "response"
   ]
  },
  {
   "cell_type": "code",
   "execution_count": 21,
   "metadata": {},
   "outputs": [
    {
     "name": "stdout",
     "output_type": "stream",
     "text": [
      "Hello Himanshu, nice to meet you!"
     ]
    }
   ],
   "source": [
    "config = {\n",
    "    \"configurable\": {\n",
    "        \"thread_id\": 6,\n",
    "    }\n",
    "}\n",
    "\n",
    "async for event in app.astream_events(\n",
    "    {\"messages\": [HumanMessage(content=\"Hi my name is Himanshu\")]},\n",
    "    config=config,\n",
    "    version=\"v2\",\n",
    "):\n",
    "    if event[\"event\"] == \"on_chat_model_stream\":\n",
    "        print(event[\"data\"][\"chunk\"].content, end=\"\", flush=True)"
   ]
  }
 ],
 "metadata": {
  "kernelspec": {
   "display_name": ".venv",
   "language": "python",
   "name": "python3"
  },
  "language_info": {
   "codemirror_mode": {
    "name": "ipython",
    "version": 3
   },
   "file_extension": ".py",
   "mimetype": "text/x-python",
   "name": "python",
   "nbconvert_exporter": "python",
   "pygments_lexer": "ipython3",
   "version": "3.11.6"
  }
 },
 "nbformat": 4,
 "nbformat_minor": 2
}
